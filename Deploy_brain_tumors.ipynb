{
  "nbformat": 4,
  "nbformat_minor": 0,
  "metadata": {
    "colab": {
      "provenance": [],
      "authorship_tag": "ABX9TyPSrjo/v4wuAqC22WyVRUy1",
      "include_colab_link": true
    },
    "kernelspec": {
      "name": "python3",
      "display_name": "Python 3"
    },
    "language_info": {
      "name": "python"
    }
  },
  "cells": [
    {
      "cell_type": "markdown",
      "metadata": {
        "id": "view-in-github",
        "colab_type": "text"
      },
      "source": [
        "<a href=\"https://colab.research.google.com/github/jmoraleses/Activity-deploy-model-brain-tumors/blob/main/Deploy_brain_tumors.ipynb\" target=\"_parent\"><img src=\"https://colab.research.google.com/assets/colab-badge.svg\" alt=\"Open In Colab\"/></a>"
      ]
    },
    {
      "cell_type": "markdown",
      "source": [
        "## Clasificación de tumores cerebrales (Javier Morales)"
      ],
      "metadata": {
        "id": "aLVxgllMqGJ9"
      }
    },
    {
      "cell_type": "code",
      "source": [
        "#@title Ejecuta esta celda para ver el despliegue del modelo { vertical-output: true, display-mode: \"form\" }\n",
        "from os import times\n",
        "!pip install -q ipywidgets\n",
        "from flask import Flask, render_template, request\n",
        "from google.colab import drive\n",
        "import requests\n",
        "import numpy as np\n",
        "import tensorflow as tf\n",
        "from keras.models import load_model\n",
        "import ipywidgets as widgets\n",
        "from IPython.display import display\n",
        "from google.colab import files\n",
        "import keras\n",
        "from pydrive.auth import GoogleAuth\n",
        "from pydrive.drive import GoogleDrive\n",
        "from google.colab import auth\n",
        "from oauth2client.client import GoogleCredentials\n",
        "from matplotlib import pyplot as plt\n",
        "from keras.utils import load_img, img_to_array\n",
        "from PIL import Image\n",
        "\n",
        "\n",
        "# Autenticarse y crear un cliente de Google Drive\n",
        "auth.authenticate_user()\n",
        "gauth = GoogleAuth()\n",
        "gauth.credentials = GoogleCredentials.get_application_default()\n",
        "drive = GoogleDrive(gauth)\n",
        "# Id del archivo\n",
        "file_id = '1pH2Q6T7n-zcR9cgXTXCsi2YMC-UZkSox'\n",
        "\n",
        "output_label = widgets.Label(value=\"\")\n",
        "name_file = widgets.Label(value=\"\")\n",
        "display(output_label)\n",
        "\n",
        "\n",
        "# Descargar el modelo desde la URL compartida de Google Drive\n",
        "downloaded = drive.CreateFile({'id': file_id})\n",
        "output_label.value = \"Cargando modelo...\"\n",
        "downloaded.GetContentFile('model.h5')\n",
        "output_label.value = \"Suba la imagen\"\n",
        "\n",
        "# Cargar el modelo previamente entrenado\n",
        "model = keras.models.load_model('model.h5')\n",
        "\n",
        "def on_button_clicked(b):\n",
        "    uploaded = files.upload()\n",
        "    for name, data in uploaded.items():\n",
        "        if name != \"\":\n",
        "            with open(name, 'wb') as f:\n",
        "                f.write(data)\n",
        "                name_file.value = name\n",
        "                display(predict_button)\n",
        "                output_label.value = \"Archivo subido\"\n",
        "            \n",
        "def prediction(b):\n",
        "    output_label.value = \"Procesando...\"\n",
        "    img = Image.open(name_file.value)\n",
        "    img = img.resize((224, 224), Image.ANTIALIAS)\n",
        "    img_array = np.array(img)\n",
        "    img_array2 = np.expand_dims(img_array, axis=0)\n",
        "    predictions = model.predict(img_array2)\n",
        "    print(predictions)\n",
        "    if int(predictions) == 1:\n",
        "      output_label.value = \"Lamento comunicarle que tiene un tumor cerebral\"\n",
        "    else:\n",
        "      output_label.value = \"Enhorabuena no tiene un tumor cerebral\"\n",
        "    \n",
        "\n",
        "upload_button = widgets.Button(description=\"Subir imagen\")\n",
        "upload_button.on_click(on_button_clicked)\n",
        "display(upload_button)\n",
        "predict_button = widgets.Button(description=\"Predecir\")\n",
        "predict_button.on_click(prediction)\n"
      ],
      "metadata": {
        "id": "LVGzPHT1ldR8"
      },
      "execution_count": null,
      "outputs": []
    }
  ]
}